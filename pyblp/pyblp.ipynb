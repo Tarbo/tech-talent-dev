{
 "metadata": {
  "language_info": {
   "codemirror_mode": {
    "name": "ipython",
    "version": 3
   },
   "file_extension": ".py",
   "mimetype": "text/x-python",
   "name": "python",
   "nbconvert_exporter": "python",
   "pygments_lexer": "ipython3",
   "version": "3.9.4"
  },
  "orig_nbformat": 2,
  "kernelspec": {
   "name": "python3",
   "display_name": "Python 3.9.4 64-bit",
   "metadata": {
    "interpreter": {
     "hash": "aee8b7b246df8f9039afb4144a1f6fd8d2ca17a180786b69acc140d282b71a49"
    }
   }
  }
 },
 "nbformat": 4,
 "nbformat_minor": 2,
 "cells": [
  {
   "cell_type": "code",
   "execution_count": 29,
   "metadata": {},
   "outputs": [
    {
     "output_type": "execute_result",
     "data": {
      "text/plain": [
       "'0.12.0'"
      ]
     },
     "metadata": {},
     "execution_count": 29
    }
   ],
   "source": [
    "import pyblp\n",
    "import numpy as np\n",
    "import pandas as pd\n",
    "\n",
    "pyblp.options.digits = 2\n",
    "pyblp.options.verbose = False\n",
    "pyblp.__version__"
   ]
  },
  {
   "cell_type": "code",
   "execution_count": 67,
   "metadata": {},
   "outputs": [
    {
     "output_type": "execute_result",
     "data": {
      "text/plain": [
       "  market_ids  city_ids  quarter product_ids  firm_ids  brand_ids    shares  \\\n",
       "0      C01Q1         1        1       F1B04         1          4  0.012417   \n",
       "1      C01Q1         1        1       F1B06         1          6  0.007809   \n",
       "2      C01Q1         1        1       F1B07         1          7  0.012995   \n",
       "3      C01Q1         1        1       F1B09         1          9  0.005770   \n",
       "4      C01Q1         1        1       F1B11         1         11  0.017934   \n",
       "5      C01Q1         1        1       F1B13         1         13  0.026602   \n",
       "6      C01Q1         1        1       F1B17         1         17  0.025015   \n",
       "7      C01Q1         1        1       F1B30         1         30  0.005058   \n",
       "8      C01Q1         1        1       F1B45         1         45  0.005332   \n",
       "9      C01Q1         1        1       F2B05         2          5  0.038068   \n",
       "\n",
       "     prices  sugar  mushy  ...  demand_instruments10  demand_instruments11  \\\n",
       "0  0.072088      2      1  ...              2.116358             -0.154708   \n",
       "1  0.114178     18      1  ...             -7.374091             -0.576412   \n",
       "2  0.132391      4      1  ...              2.187872             -0.207346   \n",
       "3  0.130344      3      0  ...              2.704576              0.040748   \n",
       "4  0.154823     12      0  ...              1.261242              0.034836   \n",
       "5  0.137049     14      0  ...              0.337554              0.023510   \n",
       "6  0.144209      3      1  ...              2.617504             -0.195578   \n",
       "7  0.128191      4      0  ...              2.591142              0.044275   \n",
       "8  0.149611     14      0  ...              0.489811              0.026016   \n",
       "9  0.108514      1      0  ...              2.727929              0.035499   \n",
       "\n",
       "   demand_instruments12  demand_instruments13  demand_instruments14  \\\n",
       "0             -0.005796              0.014538              0.126244   \n",
       "1              0.012991              0.076143              0.029736   \n",
       "2              0.003509              0.091781              0.163773   \n",
       "3             -0.003724              0.094732              0.135274   \n",
       "4             -0.000568              0.102451              0.130640   \n",
       "5              0.000264              0.086280              0.072336   \n",
       "6              0.004489              0.094150              0.138474   \n",
       "7             -0.004563              0.108831              0.135491   \n",
       "8             -0.000066              0.114297              0.116368   \n",
       "9             -0.007844              0.083079              0.020242   \n",
       "\n",
       "   demand_instruments15  demand_instruments16  demand_instruments17  \\\n",
       "0              0.067345              0.068423              0.034800   \n",
       "1              0.087867              0.110501              0.087784   \n",
       "2              0.111881              0.108226              0.086439   \n",
       "3              0.088090              0.101767              0.101777   \n",
       "4              0.084818              0.101075              0.125169   \n",
       "5              0.022251              0.105644              0.116037   \n",
       "6              0.110273              0.101192              0.106082   \n",
       "7              0.128176              0.059036              0.085440   \n",
       "8              0.141625              0.095104              0.122102   \n",
       "9             -0.020562              0.064436              0.082678   \n",
       "\n",
       "   demand_instruments18  demand_instruments19  \n",
       "0              0.126346              0.035484  \n",
       "1              0.049872              0.072579  \n",
       "2              0.122347              0.101842  \n",
       "3              0.110741              0.104332  \n",
       "4              0.133464              0.121111  \n",
       "5              0.099651              0.105727  \n",
       "6              0.143585              0.120973  \n",
       "7              0.044623              0.097111  \n",
       "8              0.131221              0.119009  \n",
       "9             -0.007339              0.072053  \n",
       "\n",
       "[10 rows x 30 columns]"
      ],
      "text/html": "<div>\n<style scoped>\n    .dataframe tbody tr th:only-of-type {\n        vertical-align: middle;\n    }\n\n    .dataframe tbody tr th {\n        vertical-align: top;\n    }\n\n    .dataframe thead th {\n        text-align: right;\n    }\n</style>\n<table border=\"1\" class=\"dataframe\">\n  <thead>\n    <tr style=\"text-align: right;\">\n      <th></th>\n      <th>market_ids</th>\n      <th>city_ids</th>\n      <th>quarter</th>\n      <th>product_ids</th>\n      <th>firm_ids</th>\n      <th>brand_ids</th>\n      <th>shares</th>\n      <th>prices</th>\n      <th>sugar</th>\n      <th>mushy</th>\n      <th>...</th>\n      <th>demand_instruments10</th>\n      <th>demand_instruments11</th>\n      <th>demand_instruments12</th>\n      <th>demand_instruments13</th>\n      <th>demand_instruments14</th>\n      <th>demand_instruments15</th>\n      <th>demand_instruments16</th>\n      <th>demand_instruments17</th>\n      <th>demand_instruments18</th>\n      <th>demand_instruments19</th>\n    </tr>\n  </thead>\n  <tbody>\n    <tr>\n      <th>0</th>\n      <td>C01Q1</td>\n      <td>1</td>\n      <td>1</td>\n      <td>F1B04</td>\n      <td>1</td>\n      <td>4</td>\n      <td>0.012417</td>\n      <td>0.072088</td>\n      <td>2</td>\n      <td>1</td>\n      <td>...</td>\n      <td>2.116358</td>\n      <td>-0.154708</td>\n      <td>-0.005796</td>\n      <td>0.014538</td>\n      <td>0.126244</td>\n      <td>0.067345</td>\n      <td>0.068423</td>\n      <td>0.034800</td>\n      <td>0.126346</td>\n      <td>0.035484</td>\n    </tr>\n    <tr>\n      <th>1</th>\n      <td>C01Q1</td>\n      <td>1</td>\n      <td>1</td>\n      <td>F1B06</td>\n      <td>1</td>\n      <td>6</td>\n      <td>0.007809</td>\n      <td>0.114178</td>\n      <td>18</td>\n      <td>1</td>\n      <td>...</td>\n      <td>-7.374091</td>\n      <td>-0.576412</td>\n      <td>0.012991</td>\n      <td>0.076143</td>\n      <td>0.029736</td>\n      <td>0.087867</td>\n      <td>0.110501</td>\n      <td>0.087784</td>\n      <td>0.049872</td>\n      <td>0.072579</td>\n    </tr>\n    <tr>\n      <th>2</th>\n      <td>C01Q1</td>\n      <td>1</td>\n      <td>1</td>\n      <td>F1B07</td>\n      <td>1</td>\n      <td>7</td>\n      <td>0.012995</td>\n      <td>0.132391</td>\n      <td>4</td>\n      <td>1</td>\n      <td>...</td>\n      <td>2.187872</td>\n      <td>-0.207346</td>\n      <td>0.003509</td>\n      <td>0.091781</td>\n      <td>0.163773</td>\n      <td>0.111881</td>\n      <td>0.108226</td>\n      <td>0.086439</td>\n      <td>0.122347</td>\n      <td>0.101842</td>\n    </tr>\n    <tr>\n      <th>3</th>\n      <td>C01Q1</td>\n      <td>1</td>\n      <td>1</td>\n      <td>F1B09</td>\n      <td>1</td>\n      <td>9</td>\n      <td>0.005770</td>\n      <td>0.130344</td>\n      <td>3</td>\n      <td>0</td>\n      <td>...</td>\n      <td>2.704576</td>\n      <td>0.040748</td>\n      <td>-0.003724</td>\n      <td>0.094732</td>\n      <td>0.135274</td>\n      <td>0.088090</td>\n      <td>0.101767</td>\n      <td>0.101777</td>\n      <td>0.110741</td>\n      <td>0.104332</td>\n    </tr>\n    <tr>\n      <th>4</th>\n      <td>C01Q1</td>\n      <td>1</td>\n      <td>1</td>\n      <td>F1B11</td>\n      <td>1</td>\n      <td>11</td>\n      <td>0.017934</td>\n      <td>0.154823</td>\n      <td>12</td>\n      <td>0</td>\n      <td>...</td>\n      <td>1.261242</td>\n      <td>0.034836</td>\n      <td>-0.000568</td>\n      <td>0.102451</td>\n      <td>0.130640</td>\n      <td>0.084818</td>\n      <td>0.101075</td>\n      <td>0.125169</td>\n      <td>0.133464</td>\n      <td>0.121111</td>\n    </tr>\n    <tr>\n      <th>5</th>\n      <td>C01Q1</td>\n      <td>1</td>\n      <td>1</td>\n      <td>F1B13</td>\n      <td>1</td>\n      <td>13</td>\n      <td>0.026602</td>\n      <td>0.137049</td>\n      <td>14</td>\n      <td>0</td>\n      <td>...</td>\n      <td>0.337554</td>\n      <td>0.023510</td>\n      <td>0.000264</td>\n      <td>0.086280</td>\n      <td>0.072336</td>\n      <td>0.022251</td>\n      <td>0.105644</td>\n      <td>0.116037</td>\n      <td>0.099651</td>\n      <td>0.105727</td>\n    </tr>\n    <tr>\n      <th>6</th>\n      <td>C01Q1</td>\n      <td>1</td>\n      <td>1</td>\n      <td>F1B17</td>\n      <td>1</td>\n      <td>17</td>\n      <td>0.025015</td>\n      <td>0.144209</td>\n      <td>3</td>\n      <td>1</td>\n      <td>...</td>\n      <td>2.617504</td>\n      <td>-0.195578</td>\n      <td>0.004489</td>\n      <td>0.094150</td>\n      <td>0.138474</td>\n      <td>0.110273</td>\n      <td>0.101192</td>\n      <td>0.106082</td>\n      <td>0.143585</td>\n      <td>0.120973</td>\n    </tr>\n    <tr>\n      <th>7</th>\n      <td>C01Q1</td>\n      <td>1</td>\n      <td>1</td>\n      <td>F1B30</td>\n      <td>1</td>\n      <td>30</td>\n      <td>0.005058</td>\n      <td>0.128191</td>\n      <td>4</td>\n      <td>0</td>\n      <td>...</td>\n      <td>2.591142</td>\n      <td>0.044275</td>\n      <td>-0.004563</td>\n      <td>0.108831</td>\n      <td>0.135491</td>\n      <td>0.128176</td>\n      <td>0.059036</td>\n      <td>0.085440</td>\n      <td>0.044623</td>\n      <td>0.097111</td>\n    </tr>\n    <tr>\n      <th>8</th>\n      <td>C01Q1</td>\n      <td>1</td>\n      <td>1</td>\n      <td>F1B45</td>\n      <td>1</td>\n      <td>45</td>\n      <td>0.005332</td>\n      <td>0.149611</td>\n      <td>14</td>\n      <td>0</td>\n      <td>...</td>\n      <td>0.489811</td>\n      <td>0.026016</td>\n      <td>-0.000066</td>\n      <td>0.114297</td>\n      <td>0.116368</td>\n      <td>0.141625</td>\n      <td>0.095104</td>\n      <td>0.122102</td>\n      <td>0.131221</td>\n      <td>0.119009</td>\n    </tr>\n    <tr>\n      <th>9</th>\n      <td>C01Q1</td>\n      <td>1</td>\n      <td>1</td>\n      <td>F2B05</td>\n      <td>2</td>\n      <td>5</td>\n      <td>0.038068</td>\n      <td>0.108514</td>\n      <td>1</td>\n      <td>0</td>\n      <td>...</td>\n      <td>2.727929</td>\n      <td>0.035499</td>\n      <td>-0.007844</td>\n      <td>0.083079</td>\n      <td>0.020242</td>\n      <td>-0.020562</td>\n      <td>0.064436</td>\n      <td>0.082678</td>\n      <td>-0.007339</td>\n      <td>0.072053</td>\n    </tr>\n  </tbody>\n</table>\n<p>10 rows × 30 columns</p>\n</div>"
     },
     "metadata": {},
     "execution_count": 67
    }
   ],
   "source": [
    "# Load the data \n",
    "product_data = pd.read_csv(pyblp.data.NEVO_PRODUCTS_LOCATION)\n",
    "product_data.head(10)"
   ]
  },
  {
   "cell_type": "code",
   "execution_count": 68,
   "metadata": {},
   "outputs": [
    {
     "output_type": "execute_result",
     "data": {
      "text/plain": [
       "Index(['market_ids', 'city_ids', 'quarter', 'product_ids', 'firm_ids',\n",
       "       'brand_ids', 'shares', 'prices', 'sugar', 'mushy',\n",
       "       'demand_instruments0', 'demand_instruments1', 'demand_instruments2',\n",
       "       'demand_instruments3', 'demand_instruments4', 'demand_instruments5',\n",
       "       'demand_instruments6', 'demand_instruments7', 'demand_instruments8',\n",
       "       'demand_instruments9', 'demand_instruments10', 'demand_instruments11',\n",
       "       'demand_instruments12', 'demand_instruments13', 'demand_instruments14',\n",
       "       'demand_instruments15', 'demand_instruments16', 'demand_instruments17',\n",
       "       'demand_instruments18', 'demand_instruments19'],\n",
       "      dtype='object')"
      ]
     },
     "metadata": {},
     "execution_count": 68
    }
   ],
   "source": [
    "# Show the list of columns\n",
    "product_data.columns"
   ]
  },
  {
   "source": [
    "# Formulate the problem and solve using MNL"
   ],
   "cell_type": "markdown",
   "metadata": {}
  },
  {
   "cell_type": "code",
   "execution_count": 69,
   "metadata": {},
   "outputs": [
    {
     "output_type": "execute_result",
     "data": {
      "text/plain": [
       "prices + Absorb[C(product_ids)]"
      ]
     },
     "metadata": {},
     "execution_count": 69
    }
   ],
   "source": [
    "# Setup the formulation using the linear demand side variables\n",
    "mnlogit_formulation = pyblp.Formulation('prices', absorb='C(product_ids)')\n",
    "mnlogit_formulation"
   ]
  },
  {
   "source": [
    "### What does `absorb` do exactly?\n",
    "- Without using the `absorb` keyword in categorical columns that has constant effect (i.e. the effect does not change over time or changes extremely slowly), the categorical columns will be turned into **IV (Instrument Variables)** a.k.a. Expanded as dummy features added into the feature columns of the **Formulation**. `absorb` maintains them as categorical codes instead to avoid running to the problem of curse of dimensionality.\n",
    "- Using `absorb` also disables addition of *intercept* by default."
   ],
   "cell_type": "markdown",
   "metadata": {}
  },
  {
   "cell_type": "code",
   "execution_count": 70,
   "metadata": {},
   "outputs": [
    {
     "output_type": "execute_result",
     "data": {
      "text/plain": [
       "Dimensions:\n",
       "================================\n",
       " T    N     F    K1    MD    ED \n",
       "---  ----  ---  ----  ----  ----\n",
       "94   2256   5    1     20    1  \n",
       "================================\n",
       "\n",
       "Formulations:\n",
       "==================================\n",
       "     Column Indices:          0   \n",
       "--------------------------  ------\n",
       "X1: Linear Characteristics  prices\n",
       "=================================="
      ]
     },
     "metadata": {},
     "execution_count": 70
    }
   ],
   "source": [
    "# Set up the problem from the formulation\n",
    "mnl_problem = pyblp.Problem(mnlogit_formulation, product_data)\n",
    "mnl_problem"
   ]
  },
  {
   "cell_type": "code",
   "execution_count": 71,
   "metadata": {},
   "outputs": [
    {
     "output_type": "execute_result",
     "data": {
      "text/plain": [
       "Problem Results Summary:\n",
       "==========================================\n",
       "GMM   Objective  Clipped  Weighting Matrix\n",
       "Step    Value    Shares   Condition Number\n",
       "----  ---------  -------  ----------------\n",
       " 2    +1.9E+02      0         +5.7E+07    \n",
       "==========================================\n",
       "\n",
       "Cumulative Statistics:\n",
       "========================\n",
       "Computation   Objective \n",
       "   Time      Evaluations\n",
       "-----------  -----------\n",
       " 00:00:00         2     \n",
       "========================\n",
       "\n",
       "Beta Estimates (Robust SEs in Parentheses):\n",
       "==========\n",
       "  prices  \n",
       "----------\n",
       " -3.0E+01 \n",
       "(+1.0E+00)\n",
       "=========="
      ]
     },
     "metadata": {},
     "execution_count": 71
    }
   ],
   "source": [
    "# Solve the problem\n",
    "mnl_logit_results = mnl_problem.solve()\n",
    "mnl_logit_results"
   ]
  },
  {
   "cell_type": "code",
   "execution_count": 47,
   "metadata": {},
   "outputs": [
    {
     "output_type": "execute_result",
     "data": {
      "text/plain": [
       "True"
      ]
     },
     "metadata": {},
     "execution_count": 47
    }
   ],
   "source": [
    "mnl_logit_results.converged"
   ]
  },
  {
   "source": [
    "# Set up a Nested Logit Example\n",
    "## Including `nesting_ids` which is a reserved word automatically trigers nested logit computation.\n",
    "### Two options are explored:\n",
    "- Group all the items in one group and the second nest will be outside good since it is normalized with respect to *outside good*\n",
    "- Create nests using a particular column in product data. In this example, `mushy` column which has two groups is used. This means two nests. Since `mushy` is collinear with `product_ids`, the `absorb` product effects is removed in the configuration of the **Formulation**. The `absorb` option cannot be used when there is collinearity.\n",
    "### Key IVs to include:\n",
    "- Instrument for $\\rho S_{j|h(j)t}$ i.e. the share of product $j$ in group $h$ where $\\rho$ is the _nest parameter_ (a measure of correlation between products in a nest).\n",
    "- For varying number of products per nest, we also need to instrument for the _number of products per nest_. For this example, number of products per nest does not vary and needs not be instrumented for."
   ],
   "cell_type": "markdown",
   "metadata": {}
  },
  {
   "cell_type": "code",
   "execution_count": 60,
   "metadata": {},
   "outputs": [],
   "source": [
    "def nl_solver(data:pd.DataFrame):\n",
    "    groups = data.groupby(['market_ids', 'nesting_ids'])\n",
    "    data['demand_instruments20'] = groups['shares'].transform(np.size)\n",
    "    nl_formulation = pyblp.Formulation('0 + prices')\n",
    "    problem = pyblp.Problem(nl_formulation, data)\n",
    "    return problem.solve(rho=0.7)"
   ]
  },
  {
   "cell_type": "code",
   "execution_count": 61,
   "metadata": {},
   "outputs": [
    {
     "output_type": "execute_result",
     "data": {
      "text/plain": [
       "Problem Results Summary:\n",
       "======================================================================================\n",
       "GMM   Objective    Projected    Reduced   Clipped  Weighting Matrix  Covariance Matrix\n",
       "Step    Value    Gradient Norm  Hessian   Shares   Condition Number  Condition Number \n",
       "----  ---------  -------------  --------  -------  ----------------  -----------------\n",
       " 2    +2.0E+02     +1.7E-09     +1.1E+04     0         +2.0E+09          +3.0E+04     \n",
       "======================================================================================\n",
       "\n",
       "Cumulative Statistics:\n",
       "=================================================\n",
       "Computation  Optimizer  Optimization   Objective \n",
       "   Time      Converged   Iterations   Evaluations\n",
       "-----------  ---------  ------------  -----------\n",
       " 00:00:01       Yes          3             8     \n",
       "=================================================\n",
       "\n",
       "Rho Estimates (Robust SEs in Parentheses):\n",
       "==========\n",
       "All Groups\n",
       "----------\n",
       " +9.8E-01 \n",
       "(+1.4E-02)\n",
       "==========\n",
       "\n",
       "Beta Estimates (Robust SEs in Parentheses):\n",
       "==========\n",
       "  prices  \n",
       "----------\n",
       " -1.2E+00 \n",
       "(+4.0E-01)\n",
       "=========="
      ]
     },
     "metadata": {},
     "execution_count": 61
    }
   ],
   "source": [
    "# Copy the product data and solve for one nest only and then switch to multiple nests.\n",
    "nl_data1 = product_data.copy()\n",
    "nl_data1[\"nesting_ids\"] = 1\n",
    "nl_results1 = nl_solver(nl_data1)\n",
    "nl_results1"
   ]
  },
  {
   "source": [
    "## $\\rho$ has cleverly become a parameter to be estimated. This means that the initial $\\rho$ was just a starting guess. The algorithm discovers the nesting relationships and estimates the best value for $\\rho$. "
   ],
   "cell_type": "markdown",
   "metadata": {}
  },
  {
   "cell_type": "code",
   "execution_count": 62,
   "metadata": {},
   "outputs": [
    {
     "output_type": "execute_result",
     "data": {
      "text/plain": [
       "Dimensions:\n",
       "===============================\n",
       " T    N     F    K1    MD    H \n",
       "---  ----  ---  ----  ----  ---\n",
       "94   2256   5    1     21    1 \n",
       "===============================\n",
       "\n",
       "Formulations:\n",
       "==================================\n",
       "     Column Indices:          0   \n",
       "--------------------------  ------\n",
       "X1: Linear Characteristics  prices\n",
       "=================================="
      ]
     },
     "metadata": {},
     "execution_count": 62
    }
   ],
   "source": [
    "nl_results1.problem"
   ]
  },
  {
   "source": [
    "### Next, let us solve by using a column to perform the nesting. `mushy` has two nests."
   ],
   "cell_type": "markdown",
   "metadata": {}
  },
  {
   "cell_type": "code",
   "execution_count": 64,
   "metadata": {},
   "outputs": [
    {
     "output_type": "execute_result",
     "data": {
      "text/plain": [
       "Problem Results Summary:\n",
       "======================================================================================\n",
       "GMM   Objective    Projected    Reduced   Clipped  Weighting Matrix  Covariance Matrix\n",
       "Step    Value    Gradient Norm  Hessian   Shares   Condition Number  Condition Number \n",
       "----  ---------  -------------  --------  -------  ----------------  -----------------\n",
       " 2    +6.9E+02     +5.1E-10     +5.6E+03     0         +5.1E+08          +2.0E+04     \n",
       "======================================================================================\n",
       "\n",
       "Cumulative Statistics:\n",
       "=================================================\n",
       "Computation  Optimizer  Optimization   Objective \n",
       "   Time      Converged   Iterations   Evaluations\n",
       "-----------  ---------  ------------  -----------\n",
       " 00:00:01       Yes          3             8     \n",
       "=================================================\n",
       "\n",
       "Rho Estimates (Robust SEs in Parentheses):\n",
       "==========\n",
       "All Groups\n",
       "----------\n",
       " +8.9E-01 \n",
       "(+1.9E-02)\n",
       "==========\n",
       "\n",
       "Beta Estimates (Robust SEs in Parentheses):\n",
       "==========\n",
       "  prices  \n",
       "----------\n",
       " -7.8E+00 \n",
       "(+4.8E-01)\n",
       "=========="
      ]
     },
     "metadata": {},
     "execution_count": 64
    }
   ],
   "source": [
    "df2 = product_data.copy()\n",
    "df2['nesting_ids'] = df2['mushy']\n",
    "nl_results2 = nl_solver(df2)\n",
    "nl_results2"
   ]
  },
  {
   "cell_type": "code",
   "execution_count": 65,
   "metadata": {},
   "outputs": [
    {
     "output_type": "execute_result",
     "data": {
      "text/plain": [
       "Dimensions:\n",
       "===============================\n",
       " T    N     F    K1    MD    H \n",
       "---  ----  ---  ----  ----  ---\n",
       "94   2256   5    1     21    2 \n",
       "===============================\n",
       "\n",
       "Formulations:\n",
       "==================================\n",
       "     Column Indices:          0   \n",
       "--------------------------  ------\n",
       "X1: Linear Characteristics  prices\n",
       "=================================="
      ]
     },
     "metadata": {},
     "execution_count": 65
    }
   ],
   "source": [
    "nl_results2.problem"
   ]
  },
  {
   "source": [
    "### What is the impact of the adjusted `nesting parameter` on prices parameter estimate when we have a single and double nest?"
   ],
   "cell_type": "markdown",
   "metadata": {}
  },
  {
   "cell_type": "code",
   "execution_count": 66,
   "metadata": {},
   "outputs": [
    {
     "output_type": "stream",
     "name": "stdout",
     "text": [
      "Single nest: [[-67.39338888]]\nTwo nests: [[-72.27074638]]\n"
     ]
    }
   ],
   "source": [
    "print(f\"Single nest: {nl_results1.beta[0] / (1 - nl_results1.rho)}\")\n",
    "print(f\"Two nests: {nl_results2.beta[0] / (1 - nl_results2.rho)}\")"
   ]
  },
  {
   "cell_type": "code",
   "execution_count": null,
   "metadata": {},
   "outputs": [],
   "source": []
  }
 ]
}